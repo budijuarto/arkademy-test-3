{
 "cells": [
  {
   "cell_type": "code",
   "execution_count": 2,
   "metadata": {},
   "outputs": [
    {
     "name": "stdout",
     "output_type": "stream",
     "text": [
      "Please enter password:123Qwer_\n",
      "Yes\n"
     ]
    }
   ],
   "source": [
    "while True:\n",
    "    user_input = input(\"Please enter password:\")\n",
    "    is_valid = False\n",
    "\n",
    "    if not(len(user_input)==8):\n",
    "        print(\"No\")\n",
    "        continue\n",
    "    elif not (\"A, B, C, D, E, F, G, H, I, J, K, L, M, N, I, O, P, Q, R, S, T, U, V, W, X, Y, Z\",user_input):\n",
    "        print(\"No\")\n",
    "        continue\n",
    "    elif not (\"a, b, c, d, e, f, g, h, i, j, k, l, m, n, o, p, q, r, s, t, u, v, w, x, y, z\",user_input):\n",
    "        print(\"No\")\n",
    "        continue\n",
    "    elif not (\"1, 2, 3, 4, 5, 6, 7, 8, 9, 0,\",user_input):\n",
    "        print(\"No\")\n",
    "        continue\n",
    "    elif not (\"!,#,$,%,&,',(),*,+,,,-,.,/,:,;,<,=,>,?,@,[,\\,],^,_,`,{,|,},~\",user_input):\n",
    "        print(\"No\")\n",
    "        continue    \n",
    "    else:\n",
    "        is_valid = True\n",
    "        break\n",
    "\n",
    "if(is_valid):\n",
    "    print(\"Yes\")"
   ]
  },
  {
   "cell_type": "code",
   "execution_count": null,
   "metadata": {},
   "outputs": [],
   "source": []
  }
 ],
 "metadata": {
  "kernelspec": {
   "display_name": "Python 3",
   "language": "python",
   "name": "python3"
  },
  "language_info": {
   "codemirror_mode": {
    "name": "ipython",
    "version": 3
   },
   "file_extension": ".py",
   "mimetype": "text/x-python",
   "name": "python",
   "nbconvert_exporter": "python",
   "pygments_lexer": "ipython3",
   "version": "3.7.1"
  }
 },
 "nbformat": 4,
 "nbformat_minor": 2
}
