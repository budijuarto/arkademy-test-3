{
 "cells": [
  {
   "cell_type": "code",
   "execution_count": 1,
   "metadata": {},
   "outputs": [
    {
     "name": "stdout",
     "output_type": "stream",
     "text": [
      "{\"Name\": \"Budi Juarto\", \"address\": \"Jalan Sungai Raya Dalam Kompleks Nusa Indah No C-6\", \"is_married\": false, \"school\": {\"High School\": \"Gembala Baik\", \"University\": \"Gadjah Mada University\"}, \"skills\": [\"python\", \"WEKA\", \"Tableau\", \"Rapidminer\", \"Autodesk Inventor\"]}\n"
     ]
    }
   ],
   "source": [
    "import json\n",
    "x = {\n",
    "    \"Name\" : \"Budi Juarto\",\n",
    "    \"address\" : \"Jalan Sungai Raya Dalam Kompleks Nusa Indah No C-6\",\n",
    "    \"is_married\" : False,\n",
    "    \"school\" : {\"High School\":\"Gembala Baik\", \"University\": \"Gadjah Mada University\"} ,\n",
    "    \"skills\" : [\"python\",\"WEKA\",\"Tableau\",\"Rapidminer\",\"Autodesk Inventor\"]\n",
    "}\n",
    "y = json.dumps(x)\n",
    "print(y)"
   ]
  },
  {
   "cell_type": "code",
   "execution_count": null,
   "metadata": {},
   "outputs": [],
   "source": []
  }
 ],
 "metadata": {
  "kernelspec": {
   "display_name": "Python 3",
   "language": "python",
   "name": "python3"
  },
  "language_info": {
   "codemirror_mode": {
    "name": "ipython",
    "version": 3
   },
   "file_extension": ".py",
   "mimetype": "text/x-python",
   "name": "python",
   "nbconvert_exporter": "python",
   "pygments_lexer": "ipython3",
   "version": "3.7.1"
  }
 },
 "nbformat": 4,
 "nbformat_minor": 2
}
