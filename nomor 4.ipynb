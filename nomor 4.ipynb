{
 "cells": [
  {
   "cell_type": "code",
   "execution_count": 4,
   "metadata": {},
   "outputs": [
    {
     "name": "stdout",
     "output_type": "stream",
     "text": [
      "Kalkulator Kembalian\n",
      "Masukan Total Belanja: rupiah 15500\n",
      "Masukan uang pembayaran: rupiah 50000\n",
      "0 lima puluh ribu\n",
      "1 dua puluh ribu\n",
      "1 sepuluh ribu\n",
      "0 lima ribu\n",
      "2 dua ribu\n",
      "0 seribu\n",
      "1 lima ratus\n"
     ]
    }
   ],
   "source": [
    "print (\"Kalkulator Kembalian\") \n",
    "\n",
    "lima_puluh_ribu = 50000 \n",
    "dua_puluh_ribu  = 20000  \n",
    "sepuluh_ribu = 10000 \n",
    "lima_ribu = 5000\n",
    "dua_ribu = 2000 \n",
    "seribu = 1000 \n",
    "lima_ratus = 500 \n",
    "\n",
    "\n",
    "item_cost = float(input(\"Masukan Total Belanja: rupiah \")) \n",
    "moneygiven = float(input(\"Masukan uang pembayaran: rupiah \"))\n",
    "moneyback = moneygiven - item_cost\n",
    "\n",
    "fiftydmb = int(moneyback / lima_puluh_ribu)  \n",
    "fiftydnewbalance=moneyback-fiftydmb*lima_puluh_ribu \n",
    "twentydmb=int(fiftydnewbalance / dua_puluh_ribu)\n",
    "twentydnewbalance=fiftydnewbalance-twentydmb*dua_puluh_ribu \n",
    "\n",
    "tendmb=int(twentydnewbalance / sepuluh_ribu) \n",
    "tendnewbalance=twentydnewbalance-tendmb*sepuluh_ribu \n",
    "\n",
    "fivedmb=int(tendnewbalance / lima_ribu) \n",
    "fivednewbalance=tendnewbalance-fivedmb*lima_ribu \n",
    "\n",
    "twodmb= int(fivednewbalance / dua_ribu)  \n",
    "twodnewbalance=fivednewbalance-twodmb*dua_ribu \n",
    "onedmb=int(twodnewbalance / seribu)  \n",
    "onednewbalance=twodnewbalance-onedmb*seribu \n",
    "pfivedmb=int(onednewbalance / lima_ratus)  \n",
    "pfivenewbalance=onednewbalance-pfivedmb*lima_ratus \n",
    "\n",
    "\n",
    "\n",
    "print (fiftydmb,\"lima puluh ribu\")  \n",
    "print (twentydmb,\"dua puluh ribu\")  \n",
    "print (tendmb,\"sepuluh ribu\")  \n",
    "print (fivedmb,\"lima ribu\") \n",
    "print (twodmb,\"dua ribu\")\n",
    "print (onedmb,\"seribu\") \n",
    "print(pfivedmb, 'lima ratus' ) "
   ]
  },
  {
   "cell_type": "markdown",
   "metadata": {},
   "source": []
  }
 ],
 "metadata": {
  "kernelspec": {
   "display_name": "Python 3",
   "language": "python",
   "name": "python3"
  },
  "language_info": {
   "codemirror_mode": {
    "name": "ipython",
    "version": 3
   },
   "file_extension": ".py",
   "mimetype": "text/x-python",
   "name": "python",
   "nbconvert_exporter": "python",
   "pygments_lexer": "ipython3",
   "version": "3.7.1"
  }
 },
 "nbformat": 4,
 "nbformat_minor": 2
}
