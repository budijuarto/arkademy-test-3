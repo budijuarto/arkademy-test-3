{
 "cells": [
  {
   "cell_type": "code",
   "execution_count": 3,
   "metadata": {},
   "outputs": [
    {
     "name": "stdout",
     "output_type": "stream",
     "text": [
      "Enter a number: 6\n",
      "Jumlah jabat tangan 6 adalah 15\n"
     ]
    }
   ],
   "source": [
    "num = int(input(\"Enter a number: \"))\n",
    "\n",
    "a = 0\n",
    "\n",
    "\n",
    "if num < 0:\n",
    "   print(\"maaf tidak ada orang tidak ada jabat tangan\")\n",
    "elif num == 0:\n",
    "   print(\"maaf tidak ada orang tidak ada jabat tangan\")\n",
    "else:\n",
    "   for i in range(1,num):\n",
    "       a = a+i\n",
    "   print(\"Jumlah jabat tangan\",num,\"adalah\",a)"
   ]
  },
  {
   "cell_type": "code",
   "execution_count": null,
   "metadata": {},
   "outputs": [],
   "source": []
  }
 ],
 "metadata": {
  "kernelspec": {
   "display_name": "Python 3",
   "language": "python",
   "name": "python3"
  },
  "language_info": {
   "codemirror_mode": {
    "name": "ipython",
    "version": 3
   },
   "file_extension": ".py",
   "mimetype": "text/x-python",
   "name": "python",
   "nbconvert_exporter": "python",
   "pygments_lexer": "ipython3",
   "version": "3.7.1"
  }
 },
 "nbformat": 4,
 "nbformat_minor": 2
}
